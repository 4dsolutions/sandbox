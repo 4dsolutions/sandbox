{
 "cells": [
  {
   "cell_type": "markdown",
   "metadata": {},
   "source": [
    "# pandas and excel\n",
    "\n",
    "[Using pandas with excel](https://medium.com/better-programming/using-python-pandas-with-excel-d5082102ca27)"
   ]
  },
  {
   "cell_type": "code",
   "execution_count": 1,
   "metadata": {},
   "outputs": [
    {
     "name": "stdout",
     "output_type": "stream",
     "text": [
      "{'Sheet1': <Worksheet \"Sheet1\">}\n"
     ]
    }
   ],
   "source": [
    "import pandas as pd\n",
    "\n",
    "# dataframe Name and Age columns\n",
    "df = pd.DataFrame({'Name': ['A', 'B', 'C', 'D'],\n",
    "                   'Age': [10, 0, 30, 50]})\n",
    "\n",
    "# Create a Pandas Excel writer using XlsxWriter as the engine.\n",
    "writer = pd.ExcelWriter('demo.xlsx', engine='xlsxwriter')\n",
    "\n",
    "# Convert the dataframe to an XlsxWriter Excel object.\n",
    "df.to_excel(writer, sheet_name='Sheet1', index=False)\n",
    "\n",
    "# Close the Pandas Excel writer and output the Excel file.\n",
    "writer.save()\n",
    "\n",
    "from openpyxl import load_workbook\n",
    "# new dataframe with same columns\n",
    "df = pd.DataFrame({'Name': ['E','F','G','H'],\n",
    "                   'Age': [100,70,40,60]})\n",
    "writer = pd.ExcelWriter('demo.xlsx', engine='openpyxl')\n",
    "# try to open an existing workbook\n",
    "writer.book = load_workbook('demo.xlsx')\n",
    "# copy existing sheets\n",
    "writer.sheets = dict((ws.title, ws) for ws in writer.book.worksheets)\n",
    "print(writer.sheets)\n",
    "# read existing file\n",
    "reader = pd.read_excel(r'demo.xlsx')\n",
    "# write out the new sheet\n",
    "df.to_excel(writer,index=False,header=False,startrow=len(reader)+1)\n",
    "\n",
    "writer.close()"
   ]
  },
  {
   "cell_type": "code",
   "execution_count": 2,
   "metadata": {},
   "outputs": [
    {
     "name": "stdout",
     "output_type": "stream",
     "text": [
      "  Name  Age\n",
      "0    A   10\n",
      "1    B    0\n",
      "2    C   30\n",
      "3    D   50\n",
      "4    E  100\n",
      "5    F   70\n",
      "6    G   40\n",
      "7    H   60\n"
     ]
    }
   ],
   "source": [
    "reader = pd.read_excel(r'demo.xlsx')\n",
    "print(reader)"
   ]
  },
  {
   "cell_type": "code",
   "execution_count": null,
   "metadata": {},
   "outputs": [],
   "source": []
  }
 ],
 "metadata": {
  "kernelspec": {
   "display_name": "Python 3",
   "language": "python",
   "name": "python3"
  },
  "language_info": {
   "codemirror_mode": {
    "name": "ipython",
    "version": 3
   },
   "file_extension": ".py",
   "mimetype": "text/x-python",
   "name": "python",
   "nbconvert_exporter": "python",
   "pygments_lexer": "ipython3",
   "version": "3.7.7"
  }
 },
 "nbformat": 4,
 "nbformat_minor": 4
}
